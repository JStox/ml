{
 "cells": [
  {
   "cell_type": "code",
   "execution_count": 1,
   "metadata": {},
   "outputs": [],
   "source": [
    "import numpy as np\n",
    "import matplotlib.pyplot as plt\n",
    "import os\n",
    "\n",
    "HAM_DIR = 'datasets/spam/easy_ham/'\n",
    "SPAM_DIR = 'datasets/spam/real_spam/'\n",
    "ham_names = [name for name in os.listdir(HAM_DIR) if len(name) > 20]\n",
    "spam_names = [name for name in os.listdir(SPAM_DIR) if len(name) > 20]"
   ]
  },
  {
   "cell_type": "code",
   "execution_count": 2,
   "metadata": {},
   "outputs": [
    {
     "data": {
      "text/plain": [
       "2551"
      ]
     },
     "execution_count": 2,
     "metadata": {},
     "output_type": "execute_result"
    }
   ],
   "source": [
    "len(ham_names)"
   ]
  },
  {
   "cell_type": "code",
   "execution_count": 3,
   "metadata": {},
   "outputs": [],
   "source": [
    "import email\n",
    "import email.policy\n"
   ]
  },
  {
   "cell_type": "code",
   "execution_count": 4,
   "metadata": {},
   "outputs": [],
   "source": [
    "def shift(num, direction):\n",
    "    num_reshape = np.reshape(num, (28,28))\n",
    "    if direction == 0: # this one works\n",
    "        temp = num_reshape[:1, :]\n",
    "        num_reshape[:-1, :] = num_reshape[1:, :]\n",
    "        num_reshape[-1:,:] = temp\n",
    "    elif direction == 1:\n",
    "        temp = num_reshape[:, :1]\n",
    "        num_reshape[:, :-1] = num_reshape[:, 1:]\n",
    "        num_reshape[:, -1:] = temp\n",
    "    elif direction == 2:\n",
    "        temp = num_reshape[-1:, :]\n",
    "        num_reshape[1:, :] = num_reshape[:-1, :]\n",
    "        num_reshape[:1, :] = temp\n",
    "    elif direction == 3:\n",
    "        temp = num_reshape[:, -1:]\n",
    "        num_reshape[:, 1:] = num_reshape[:, :-1]\n",
    "        num_reshape[:, :1] = temp\n",
    "    else:\n",
    "        print('Choose between 0-3 for direction')\n",
    "    return np.reshape(num_reshape, (784,))"
   ]
  },
  {
   "cell_type": "code",
   "execution_count": 5,
   "metadata": {},
   "outputs": [
    {
     "name": "stdout",
     "output_type": "stream",
     "text": [
      "0.005112648010253906\n"
     ]
    }
   ],
   "source": [
    "import time\n",
    "\n",
    "t = time.time()\n",
    "n = np.random.randint(0, 255, (1, 784))\n",
    "shift(n, 1)\n",
    "print(time.time() - t)"
   ]
  },
  {
   "cell_type": "code",
   "execution_count": 7,
   "metadata": {},
   "outputs": [
    {
     "data": {
      "text/plain": [
       "dict_keys(['data', 'target', 'feature_names', 'DESCR', 'details', 'categories', 'url'])"
      ]
     },
     "execution_count": 7,
     "metadata": {},
     "output_type": "execute_result"
    }
   ],
   "source": [
    "from sklearn.datasets import fetch_openml\n",
    "mnist = fetch_openml('mnist_784', version=1)\n",
    "mnist.keys()"
   ]
  },
  {
   "cell_type": "code",
   "execution_count": 14,
   "metadata": {},
   "outputs": [],
   "source": [
    "X = mnist['data']\n",
    "y = mnist['target']\n",
    "X_train = X[:4000]\n",
    "y_train = y[:4000]"
   ]
  },
  {
   "cell_type": "code",
   "execution_count": null,
   "metadata": {},
   "outputs": [],
   "source": [
    "for i in range(len(X_train)):\n",
    "    for j in range(4):\n",
    "        n = shift(X_train[i], j)\n",
    "        X_train = np.concatenate((X_train, np.reshape(n, (1, 784)))) # add to X_train\n",
    "        y_train = np.append(y_train, np.array([y_train[i]])) # add label to y_train"
   ]
  },
  {
   "cell_type": "code",
   "execution_count": null,
   "metadata": {},
   "outputs": [],
   "source": [
    "X_train[1]"
   ]
  },
  {
   "cell_type": "code",
   "execution_count": null,
   "metadata": {},
   "outputs": [],
   "source": []
  }
 ],
 "metadata": {
  "kernelspec": {
   "display_name": "Python 3",
   "language": "python",
   "name": "python3"
  },
  "language_info": {
   "codemirror_mode": {
    "name": "ipython",
    "version": 3
   },
   "file_extension": ".py",
   "mimetype": "text/x-python",
   "name": "python",
   "nbconvert_exporter": "python",
   "pygments_lexer": "ipython3",
   "version": "3.7.3"
  }
 },
 "nbformat": 4,
 "nbformat_minor": 2
}
