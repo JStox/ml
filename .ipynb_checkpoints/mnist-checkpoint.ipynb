{
 "cells": [
  {
   "cell_type": "code",
   "execution_count": 2,
   "metadata": {},
   "outputs": [],
   "source": [
    "import numpy as np\n",
    "import pandas as pd\n",
    "import matplotlib.pyplot as plt\n",
    "%matplotlib inline"
   ]
  },
  {
   "cell_type": "code",
   "execution_count": 3,
   "metadata": {},
   "outputs": [
    {
     "data": {
      "text/plain": [
       "\".. _digits_dataset:\\n\\nOptical recognition of handwritten digits dataset\\n--------------------------------------------------\\n\\n**Data Set Characteristics:**\\n\\n    :Number of Instances: 5620\\n    :Number of Attributes: 64\\n    :Attribute Information: 8x8 image of integer pixels in the range 0..16.\\n    :Missing Attribute Values: None\\n    :Creator: E. Alpaydin (alpaydin '@' boun.edu.tr)\\n    :Date: July; 1998\\n\\nThis is a copy of the test set of the UCI ML hand-written digits datasets\\nhttps://archive.ics.uci.edu/ml/datasets/Optical+Recognition+of+Handwritten+Digits\\n\\nThe data set contains images of hand-written digits: 10 classes where\\neach class refers to a digit.\\n\\nPreprocessing programs made available by NIST were used to extract\\nnormalized bitmaps of handwritten digits from a preprinted form. From a\\ntotal of 43 people, 30 contributed to the training set and different 13\\nto the test set. 32x32 bitmaps are divided into nonoverlapping blocks of\\n4x4 and the number of on pixels are counted in each block. This generates\\nan input matrix of 8x8 where each element is an integer in the range\\n0..16. This reduces dimensionality and gives invariance to small\\ndistortions.\\n\\nFor info on NIST preprocessing routines, see M. D. Garris, J. L. Blue, G.\\nT. Candela, D. L. Dimmick, J. Geist, P. J. Grother, S. A. Janet, and C.\\nL. Wilson, NIST Form-Based Handprint Recognition System, NISTIR 5469,\\n1994.\\n\\n.. topic:: References\\n\\n  - C. Kaynak (1995) Methods of Combining Multiple Classifiers and Their\\n    Applications to Handwritten Digit Recognition, MSc Thesis, Institute of\\n    Graduate Studies in Science and Engineering, Bogazici University.\\n  - E. Alpaydin, C. Kaynak (1998) Cascading Classifiers, Kybernetika.\\n  - Ken Tang and Ponnuthurai N. Suganthan and Xi Yao and A. Kai Qin.\\n    Linear dimensionalityreduction using relevance weighted LDA. School of\\n    Electrical and Electronic Engineering Nanyang Technological University.\\n    2005.\\n  - Claudio Gentile. A New Approximate Maximal Margin Classification\\n    Algorithm. NIPS. 2000.\""
      ]
     },
     "execution_count": 3,
     "metadata": {},
     "output_type": "execute_result"
    }
   ],
   "source": [
    "from sklearn.datasets import load_digits\n",
    "\n",
    "digits = load_digits()\n",
    "digits['DESCR']"
   ]
  },
  {
   "cell_type": "code",
   "execution_count": 4,
   "metadata": {},
   "outputs": [],
   "source": [
    "nums = digits.data # matricies\n",
    "labels = digits.target # labels of output"
   ]
  },
  {
   "cell_type": "code",
   "execution_count": 99,
   "metadata": {},
   "outputs": [
    {
     "name": "stdout",
     "output_type": "stream",
     "text": [
      "(1797, 64)\n",
      "[0 1 2 3 4 5 6 7 8 9 0 1 2 3 4 5 6 7 8 9 0 1 2 3 4 5 6 7 8 9 0 9 5 5 6 5 0\n",
      " 9 8 9 8 4 1 7 7 3 5 1 0 0]\n"
     ]
    }
   ],
   "source": [
    "print(nums.shape)\n",
    "print(labels[:50]) # they are not in order.....awkward"
   ]
  },
  {
   "cell_type": "code",
   "execution_count": 101,
   "metadata": {},
   "outputs": [
    {
     "name": "stdout",
     "output_type": "stream",
     "text": [
      "[[ 0.  0.  0.  2. 13.  0.  0.  0.]\n",
      " [ 0.  0.  0.  8. 15.  0.  0.  0.]\n",
      " [ 0.  0.  5. 16.  5.  2.  0.  0.]\n",
      " [ 0.  0. 15. 12.  1. 16.  4.  0.]\n",
      " [ 0.  4. 16.  2.  9. 16.  8.  0.]\n",
      " [ 0.  0. 10. 14. 16. 16.  4.  0.]\n",
      " [ 0.  0.  0.  0. 13.  8.  0.  0.]\n",
      " [ 0.  0.  0.  0. 13.  6.  0.  0.]]\n"
     ]
    }
   ],
   "source": [
    "index = np.random.randint(low=0, high=1796)\n",
    "example = nums[index, :]\n",
    "print(np.reshape(example, [8,8]))"
   ]
  },
  {
   "cell_type": "code",
   "execution_count": 102,
   "metadata": {},
   "outputs": [
    {
     "name": "stdout",
     "output_type": "stream",
     "text": [
      "4\n"
     ]
    },
    {
     "data": {
      "image/png": "[encoded data removed]",
      "text/plain": [
       "<Figure size 432x288 with 1 Axes>"
      ]
     },
     "metadata": {
      "needs_background": "light"
     },
     "output_type": "display_data"
    }
   ],
   "source": [
    "sqaure_example = np.reshape(example, [8,8])\n",
    "im = plt.imshow(sqaure_example, cmap='gray')\n",
    "print(labels[index]) # well that is unconvincing"
   ]
  },
  {
   "cell_type": "code",
   "execution_count": 107,
   "metadata": {},
   "outputs": [],
   "source": [
    "# split the data, if we choose a nice multiple of 10 then the set will be split up relatively evenly.\n",
    "split_number = 1400\n",
    "training_digits = nums[:1400, :]\n",
    "testing_digits = nums[1400:, :]\n",
    "training_labels = labels[:1400]\n",
    "testing_labels = labels[1400:]"
   ]
  },
  {
   "cell_type": "code",
   "execution_count": 108,
   "metadata": {},
   "outputs": [
    {
     "data": {
      "text/plain": [
       "KNeighborsClassifier(algorithm='auto', leaf_size=30, metric='minkowski',\n",
       "                     metric_params=None, n_jobs=None, n_neighbors=5, p=2,\n",
       "                     weights='uniform')"
      ]
     },
     "execution_count": 108,
     "metadata": {},
     "output_type": "execute_result"
    }
   ],
   "source": [
    "# try a knn algo\n",
    "from sklearn.neighbors import KNeighborsClassifier\n",
    "\n",
    "knn = KNeighborsClassifier()\n",
    "knn.fit(training_digits, training_labels)"
   ]
  },
  {
   "cell_type": "code",
   "execution_count": 109,
   "metadata": {},
   "outputs": [
    {
     "name": "stdout",
     "output_type": "stream",
     "text": [
      "[2 8 2 2 5 7 9 5 4 8] [2 8 2 2 5 7 9 5 4 8]\n"
     ]
    }
   ],
   "source": [
    "predicted_labels = knn.predict(testing_digits)\n",
    "print(predicted_labels[:10], testing_labels[:10]) # 100 so far"
   ]
  },
  {
   "cell_type": "code",
   "execution_count": 110,
   "metadata": {},
   "outputs": [
    {
     "data": {
      "text/plain": [
       "0.9672544080604534"
      ]
     },
     "execution_count": 110,
     "metadata": {},
     "output_type": "execute_result"
    }
   ],
   "source": [
    "counter = 0\n",
    "for p, a in zip(predicted_labels, testing_labels):\n",
    "    if p == a:\n",
    "        counter += 1\n",
    "counter/predicted_labels.shape[0] # show the percentage correct"
   ]
  },
  {
   "cell_type": "markdown",
   "metadata": {},
   "source": [
    "Time to try SVD"
   ]
  },
  {
   "cell_type": "markdown",
   "metadata": {},
   "source": [
    "The Goal is to create a low rank approximation matrix for each number, with the principal components as the columns. We will accomplish this by taking the svd of the images and comparing other image low approximations to them"
   ]
  },
  {
   "cell_type": "code",
   "execution_count": 112,
   "metadata": {},
   "outputs": [],
   "source": [
    "# how to store the data\n",
    "training_data = [[] for i in range(10)] # store in list of lists\n",
    "j = 0\n",
    "\n",
    "for dig, lab in zip(training_digits, training_labels):\n",
    "    training_data[lab].append(dig)"
   ]
  },
  {
   "cell_type": "code",
   "execution_count": 116,
   "metadata": {},
   "outputs": [
    {
     "data": {
      "text/plain": [
       "<matplotlib.image.AxesImage at 0x7ff2b0eac4a8>"
      ]
     },
     "execution_count": 116,
     "metadata": {},
     "output_type": "execute_result"
    },
    {
     "data": {
      "image/png": "[encoded data removed]",
      "text/plain": [
       "<Figure size 432x288 with 1 Axes>"
      ]
     },
     "metadata": {
      "needs_background": "light"
     },
     "output_type": "display_data"
    }
   ],
   "source": [
    "plt.imshow(np.reshape(training_data[7][9], (8,8))) # appears to have worked"
   ]
  },
  {
   "cell_type": "code",
   "execution_count": 117,
   "metadata": {},
   "outputs": [],
   "source": [
    "# take svd of image and return a lower rank approximation of image\n",
    "def svd_approx(k, img):\n",
    "    u, s, v_t = np.linalg.svd(img)\n",
    "    step_1 = np.matmul(u[:, :k], np.diag(s)[:k, :k]) # create a diagonal matrix and mulitply to it\n",
    "    not_normalized = np.matmul(step_1, v_t[:k,:])\n",
    "    return not_normalized # lets try not normalizing the results first"
   ]
  },
  {
   "cell_type": "code",
   "execution_count": 164,
   "metadata": {},
   "outputs": [],
   "source": [
    "approx_svds = [[] for i in range(10)] # for loops are sick\n",
    "for i in range(10):\n",
    "    for im in training_data[i]:\n",
    "        approx_svds[i].append(svd_approx(4, np.reshape(im, (8,8))))"
   ]
  },
  {
   "cell_type": "code",
   "execution_count": 165,
   "metadata": {},
   "outputs": [
    {
     "data": {
      "text/plain": [
       "<matplotlib.image.AxesImage at 0x7ff2b063c160>"
      ]
     },
     "execution_count": 165,
     "metadata": {},
     "output_type": "execute_result"
    },
    {
     "data": {
      "image/png": "[encoded data removed]",
      "text/plain": [
       "<Figure size 432x288 with 1 Axes>"
      ]
     },
     "metadata": {
      "needs_background": "light"
     },
     "output_type": "display_data"
    }
   ],
   "source": [
    "plt.imshow(approx_svds[9][5], cmap='gray') # sicko mode or mo bamba?"
   ]
  },
  {
   "cell_type": "code",
   "execution_count": 166,
   "metadata": {},
   "outputs": [
    {
     "name": "stdout",
     "output_type": "stream",
     "text": [
      "0.8387909319899244\n",
      "333 397\n"
     ]
    }
   ],
   "source": [
    "successes = 0\n",
    "error_indicies = []\n",
    "for img, lab in zip(testing_digits, testing_labels):\n",
    "    error_counter = [0 for i in range(10)] # will store global errors for each number\n",
    "    img_reshape = np.reshape(img, (8,8))\n",
    "    for i in range(10):\n",
    "        for img in approx_svds[i]:\n",
    "            error_counter[i] += np.linalg.norm(svd_approx(4, img_reshape) - img)\n",
    "        error_counter[i] = error_counter[i]/len(approx_svds[i])\n",
    "    if error_counter.index(min(error_counter)) == lab:\n",
    "        successes += 1\n",
    "    else:\n",
    "        error_indicies.append((error_counter.index(min(error_counter)), lab))\n",
    "print(successes/len(testing_digits)) # well that sucked...\n",
    "print(successes, len(testing_digits))"
   ]
  },
  {
   "cell_type": "code",
   "execution_count": 174,
   "metadata": {},
   "outputs": [
    {
     "name": "stdout",
     "output_type": "stream",
     "text": [
      "9\n"
     ]
    },
    {
     "data": {
      "image/png": "[encoded data removed]",
      "text/plain": [
       "<Figure size 432x288 with 1 Axes>"
      ]
     },
     "metadata": {
      "needs_background": "light"
     },
     "output_type": "display_data"
    }
   ],
   "source": [
    "img = testing_digits[143, :]\n",
    "lab = testing_labels[143]\n",
    "reshaped_img = np.reshape(img, (8,8))\n",
    "plt.imshow(svd_approx(8,np.reshape(img, (8,8))), cmap='gray')\n",
    "print(lab) # here is in example of a misclassified digit"
   ]
  },
  {
   "cell_type": "code",
   "execution_count": 177,
   "metadata": {},
   "outputs": [
    {
     "data": {
      "text/plain": [
       "[<matplotlib.lines.Line2D at 0x7ff2b05a8b00>]"
      ]
     },
     "execution_count": 177,
     "metadata": {},
     "output_type": "execute_result"
    },
    {
     "data": {
      "image/png": "[encoded data removed]",
      "text/plain": [
       "<Figure size 432x288 with 1 Axes>"
      ]
     },
     "metadata": {
      "needs_background": "light"
     },
     "output_type": "display_data"
    }
   ],
   "source": [
    "error_counter = [0 for i in range(10)]\n",
    "for i in range(10):\n",
    "    for im in approx_svds[i]:\n",
    "        error_counter[i] += np.linalg.norm(reshaped_img - im)\n",
    "    error_counter[i] = error_counter[i]/len(approx_svds[i])\n",
    "plt.plot([j for j in range(10)], error_counter) # i have not found 1 where the dip is not at the right number"
   ]
  },
  {
   "cell_type": "code",
   "execution_count": 178,
   "metadata": {},
   "outputs": [
    {
     "name": "stdout",
     "output_type": "stream",
     "text": [
      "[(6, 5), (0, 9), (3, 1), (9, 8), (9, 1), (9, 5), (3, 9), (9, 1), (9, 5), (9, 1), (9, 8), (9, 1), (9, 1), (9, 8), (9, 1), (3, 1), (9, 1), (9, 1), (9, 8), (9, 1), (9, 1), (9, 5), (5, 8), (3, 9), (7, 8), (0, 9), (1, 6), (8, 7), (1, 8), (0, 2), (5, 8), (4, 0), (5, 9), (5, 9), (0, 2), (3, 2), (8, 3), (7, 3), (7, 3), (8, 3), (8, 4), (3, 2), (8, 4), (7, 9), (3, 9), (3, 9), (8, 4), (5, 9), (7, 9), (7, 8), (3, 8), (8, 3), (8, 3), (7, 3), (8, 3), (8, 3), (8, 3), (8, 1), (8, 1), (5, 3), (8, 1), (8, 1), (9, 5), (9, 5)]\n"
     ]
    }
   ],
   "source": [
    "print(error_indicies) # seems to think a lot of 1s are 9s or 8s"
   ]
  },
  {
   "cell_type": "code",
   "execution_count": null,
   "metadata": {},
   "outputs": [],
   "source": []
  },
  {
   "cell_type": "code",
   "execution_count": null,
   "metadata": {},
   "outputs": [],
   "source": []
  },
  {
   "cell_type": "code",
   "execution_count": null,
   "metadata": {},
   "outputs": [],
   "source": []
  },
  {
   "cell_type": "code",
   "execution_count": null,
   "metadata": {},
   "outputs": [],
   "source": []
  }
 ],
 "metadata": {
  "kernelspec": {
   "display_name": "Python 3",
   "language": "python",
   "name": "python3"
  },
  "language_info": {
   "codemirror_mode": {
    "name": "ipython",
    "version": 3
   },
   "file_extension": ".py",
   "mimetype": "text/x-python",
   "name": "python",
   "nbconvert_exporter": "python",
   "pygments_lexer": "ipython3",
   "version": "3.7.3"
  }
 },
 "nbformat": 4,
 "nbformat_minor": 2
}
